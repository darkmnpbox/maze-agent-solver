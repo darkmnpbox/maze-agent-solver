{
 "cells": [
  {
   "cell_type": "code",
   "execution_count": 1,
   "id": "4955ad0a",
   "metadata": {},
   "outputs": [],
   "source": [
    "import numpy as np\n",
    "import matplotlib.pyplot as plt\n",
    "import cv2 as cv\n",
    "import gym\n",
    "import gym_env\n",
    "import glob"
   ]
  },
  {
   "cell_type": "code",
   "execution_count": 10,
   "id": "05dfccb8",
   "metadata": {},
   "outputs": [
    {
     "name": "stdout",
     "output_type": "stream",
     "text": [
      "0 1 2\n",
      "1 3 4\n"
     ]
    }
   ],
   "source": [
    "ss = [[1,2], [3,4]]\n",
    "for i, (s, a) in enumerate(ss):\n",
    "    print(i, s, a)"
   ]
  },
  {
   "cell_type": "code",
   "execution_count": 34,
   "id": "297b83a4",
   "metadata": {},
   "outputs": [],
   "source": [
    "def actionSelect(Map, s, actions):\n",
    "    if len(Map) == 0:\n",
    "        return actions[0]\n",
    "    for a in actions:\n",
    "        if a not in Map[s].keys():\n",
    "            return a\n",
    "    q = float('-inf')\n",
    "    for a in actions:\n",
    "        if Map[s][a][1] > q:\n",
    "            action = a\n",
    "            q = Map[s][a][1]\n",
    "    return action\n",
    "\n",
    "def maxQ(Map, s, actions):\n",
    "    for a in actions:\n",
    "        if a not in Map[s].keys():\n",
    "            return 0\n",
    "    q = float('-inf')\n",
    "    for a in actions:\n",
    "        if Map[s][a][1] > q:\n",
    "            q = Map[s][a][1]\n",
    "    return q\n",
    "\n",
    "def updateMap(Map, sm, expirence, actions, gamma):\n",
    "    s, a, s1, r = expirence\n",
    "    if s1 in np.array(sm)[:,0]:\n",
    "        Map[s][a] = [s1, float('-inf')]\n",
    "    elif s1 in Map.keys():\n",
    "        Map[s][a] = [s1, r+gamma*maxQ(Map, s1, actions)]\n",
    "    else:\n",
    "        Map[s][a] = [s1, r]\n",
    "        Map[s1] = {}\n",
    "    return Map\n",
    "\n",
    "def updateSM(sm, work):\n",
    "    s, a = work\n",
    "    SM = []\n",
    "    for ss, aa in sm:\n",
    "        if ss == s:\n",
    "            SM.append([s,a])\n",
    "            return SM\n",
    "        else:\n",
    "            SM.append([ss, aa])\n",
    "    SM.append([s, a])\n",
    "    return SM\n",
    "\n",
    "def foundGoal(Map, sm, s1, r, gamma):\n",
    "    if r < 0:\n",
    "        s, a = sm[-1]\n",
    "        Map[s][a] = [s1, float('-inf')]\n",
    "        return Map\n",
    "    n = len(sm)\n",
    "    for i, (s, a) in enumerate(sm):\n",
    "        if i<n-1:\n",
    "            Map[s][a] = [sm[i+1][0], np.power(gamma, n-i)*r]\n",
    "        else:\n",
    "            Map[s][a] = [s1, r]\n",
    "    return Map\n",
    "\n",
    "\n",
    "def mazeSolve(env, gamma, noEpisodes, singleGoal):\n",
    "    Map = {}\n",
    "    states = []\n",
    "    for e in range(noEpisodes):\n",
    "        sm = []\n",
    "        s = env.reset()\n",
    "        done = env.done\n",
    "        if s not in Map.keys():\n",
    "            Map[s] = {}\n",
    "        states.append(s)\n",
    "        while not done:\n",
    "            actions = env.action_available()\n",
    "            try:\n",
    "                a = actionSelect(Map, s, actions)\n",
    "            except:\n",
    "                break\n",
    "            sm = updateSM(sm, (s, a))\n",
    "            s1, r, done = env.step(a)\n",
    "            states.append(s1)\n",
    "            actions = env.action_available()\n",
    "            Map = updateMap(Map, sm, (s, a, s1, r), actions, gamma)\n",
    "            if done and singleGoal:\n",
    "                Map = foundGoal(Map, sm, s1, r, gamma)\n",
    "            s = s1\n",
    "    return states, sm, Map"
   ]
  },
  {
   "cell_type": "code",
   "execution_count": 54,
   "id": "58411538",
   "metadata": {},
   "outputs": [],
   "source": [
    "data = np.array([\n",
    "    [1,0,1,1,1,1,1,1,1,1,1],\n",
    "    [1,0,1,0,0,1,1,0,0,0,0],\n",
    "    [1,1,1,0,1,1,1,1,1,1,1],\n",
    "    [1,0,0,0,1,0,1,0,1,0,1],\n",
    "    [1,1,0,1,1,0,1,0,1,0,1],\n",
    "    [1,1,0,1,1,0,1,1,0,0,0],\n",
    "    [1,0,0,1,1,0,1,1,1,1,1],\n",
    "    [1,1,0,1,1,0,0,1,1,0,0],\n",
    "    [1,1,0,0,1,1,0,1,1,1,1],\n",
    "    [0,1,0,1,1,1,1,0,1,0,1],\n",
    "    [1,1,1,1,0,0,1,0,1,0,3]\n",
    "])\n",
    "\n",
    "params = { 'maze':data, 'start':0 }\n",
    "env = gym.make('maze-world-env02-v0', **params)\n",
    "states, sm, MAP = mazeSolve(env, 0.9, 30, False)\n",
    "videoMaker(data, states)"
   ]
  },
  {
   "cell_type": "code",
   "execution_count": 46,
   "id": "fc596309",
   "metadata": {},
   "outputs": [],
   "source": [
    "def showMaze(data, s): \n",
    "    rows, cols = data.shape\n",
    "    r = s // cols\n",
    "    c = s % cols\n",
    "    data[r, c] = 2\n",
    "    offset = 4\n",
    "    cell = 10\n",
    "    length = cols*cell + 2*offset\n",
    "    width = rows*cell + 2*offset\n",
    "    design = np.array([128,128,128]*offset*length, dtype='uint8').reshape((offset, length, 3))\n",
    "    Cell = np.array([128,128,128]*cell*cell, dtype='uint8').reshape((cell, cell, 3))\n",
    "    for i in range(rows):\n",
    "        row = np.array([128,128,128]*cell*offset, dtype='uint8').reshape((cell, offset, 3))\n",
    "        for j in range(cols):\n",
    "            if data[i, j] == 0:\n",
    "                row = np.hstack((row, Cell))\n",
    "            elif data[i, j] == 1:\n",
    "                row = np.hstack((row, np.full((cell, cell, 3), 255, dtype='uint8')))\n",
    "            elif data[i, j] == 2:\n",
    "                start = np.array([0,0,255]*cell*cell, dtype='uint8').reshape((cell, cell, 3))\n",
    "                row = np.hstack((row, start))\n",
    "            elif data[i, j] == 3:\n",
    "                end = np.array([0,255,0]*cell*cell, dtype='uint8').reshape((cell, cell, 3))\n",
    "                row = np.hstack((row, end))\n",
    "            elif data[i, j] == 4:\n",
    "                hole = np.array([255,0,0]*cell*cell, dtype='uint8').reshape((cell, cell, 3))\n",
    "                row = np.hstack((row, hole))\n",
    "        row = np.hstack((row, np.array([128,128,128]*cell*offset, dtype='uint8').reshape((cell, offset, 3))))\n",
    "        design = np.vstack((design, row))\n",
    "    design = np.vstack((design, np.array([128,128,128]*offset*length, dtype='uint8').reshape((offset, length, 3))))\n",
    "    return design\n",
    "\n",
    "def videoMaker(data, states):\n",
    "    images = []\n",
    "    for s in states:\n",
    "        maze = data.copy()\n",
    "        images.append(showMaze(maze, s))\n",
    "    \n",
    "    for i in range(len(images)):\n",
    "        cv.imwrite(f'images/{i}.png', images[i])\n",
    "    \n",
    "    img_array = []\n",
    "    for i in range(len(images)):\n",
    "        filename = f'images/{i}.png'\n",
    "        img = cv.imread(filename)\n",
    "        height, width, layers = img.shape\n",
    "        size = (width,height)\n",
    "        img_array.append(img)\n",
    "    \n",
    "    out = cv.VideoWriter('maze.avi',cv.VideoWriter_fourcc(*'DIVX'), 20, size)\n",
    "\n",
    "    for i in range(len(img_array)):\n",
    "        out.write(img_array[i])\n",
    "    out.release()"
   ]
  },
  {
   "cell_type": "code",
   "execution_count": 47,
   "id": "22e5c1a7",
   "metadata": {
    "scrolled": true
   },
   "outputs": [
    {
     "data": {
      "image/png": "[encoded data removed]",
      "text/plain": [
       "<Figure size 640x480 with 1 Axes>"
      ]
     },
     "metadata": {},
     "output_type": "display_data"
    }
   ],
   "source": [
    "data = np.array([\n",
    "    [1,0,1,0,1,0,0,0,1,3],\n",
    "    [1,0,1,1,1,0,1,0,1,4],\n",
    "    [1,0,1,0,1,0,1,0,1,0],\n",
    "    [1,0,1,0,1,1,1,0,1,0],\n",
    "    [1,1,1,0,1,0,1,1,1,0],\n",
    "    [1,0,1,0,1,0,1,0,1,0],\n",
    "    [1,0,1,0,1,0,0,0,1,0]\n",
    "])\n",
    "\n",
    "des = showMaze(data, 0)\n",
    "plt.axis('off')\n",
    "plt.imshow(des)\n",
    "plt.show()"
   ]
  },
  {
   "cell_type": "code",
   "execution_count": 52,
   "id": "faac7ea7",
   "metadata": {
    "scrolled": true
   },
   "outputs": [
    {
     "data": {
      "image/png": "[encoded data removed]",
      "text/plain": [
       "<Figure size 640x480 with 1 Axes>"
      ]
     },
     "metadata": {},
     "output_type": "display_data"
    }
   ],
   "source": [
    "data = np.array([\n",
    "    [1,0,1,1,1,1,1,1,1,1,1],\n",
    "    [1,0,1,0,0,1,1,0,0,0,0],\n",
    "    [1,1,1,0,1,1,1,1,1,1,1],\n",
    "    [1,0,0,0,1,0,1,0,1,0,1],\n",
    "    [1,1,0,1,1,0,1,0,1,0,1],\n",
    "    [1,1,0,1,1,0,1,1,0,0,0],\n",
    "    [1,0,0,1,1,0,1,1,1,1,1],\n",
    "    [1,1,0,1,1,0,0,1,1,0,0],\n",
    "    [1,1,0,0,1,1,0,1,1,1,1],\n",
    "    [0,1,0,1,0,1,1,0,1,0,1],\n",
    "    [1,1,1,1,0,0,1,0,1,0,3]\n",
    "])\n",
    "\n",
    "des = showMaze(data, 0)\n",
    "plt.axis('off')\n",
    "plt.imshow(des)\n",
    "plt.show()"
   ]
  },
  {
   "cell_type": "code",
   "execution_count": 53,
   "id": "c5f596d9",
   "metadata": {},
   "outputs": [
    {
     "data": {
      "image/png": "[encoded data removed]",
      "text/plain": [
       "<Figure size 640x480 with 1 Axes>"
      ]
     },
     "metadata": {},
     "output_type": "display_data"
    }
   ],
   "source": [
    "data = np.array([\n",
    "    [1,0,1,1,1,1,1,1,1,1,1],\n",
    "    [1,0,1,0,0,1,1,0,0,0,0],\n",
    "    [1,1,1,0,1,1,1,1,1,1,1],\n",
    "    [1,0,0,0,1,0,1,0,1,0,1],\n",
    "    [1,1,0,1,1,0,1,0,1,0,1],\n",
    "    [1,1,0,1,1,0,1,1,0,0,0],\n",
    "    [1,0,0,1,1,0,1,1,1,1,1],\n",
    "    [1,1,0,1,1,0,0,1,1,0,0],\n",
    "    [1,1,0,0,1,1,0,1,1,1,1],\n",
    "    [0,1,0,1,1,1,1,0,1,0,1],\n",
    "    [1,1,1,1,0,0,1,0,1,0,3]\n",
    "])\n",
    "\n",
    "des = showMaze(data, 0)\n",
    "plt.axis('off')\n",
    "plt.imshow(des)\n",
    "plt.show()"
   ]
  }
 ],
 "metadata": {
  "kernelspec": {
   "display_name": "Python 3",
   "language": "python",
   "name": "python3"
  },
  "language_info": {
   "codemirror_mode": {
    "name": "ipython",
    "version": 3
   },
   "file_extension": ".py",
   "mimetype": "text/x-python",
   "name": "python",
   "nbconvert_exporter": "python",
   "pygments_lexer": "ipython3",
   "version": "3.8.8"
  }
 },
 "nbformat": 4,
 "nbformat_minor": 5
}
